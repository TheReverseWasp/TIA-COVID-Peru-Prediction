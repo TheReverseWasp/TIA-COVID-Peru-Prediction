{
 "cells": [
  {
   "cell_type": "markdown",
   "metadata": {},
   "source": [
    "# Predicción de COVID-19 en el Perú | COVID-19 Prediction in Peru\n",
    "Por/by: Ricardo Manuel Lazo Vásquez"
   ]
  },
  {
   "cell_type": "markdown",
   "metadata": {},
   "source": [
    "## Common imports"
   ]
  },
  {
   "cell_type": "code",
   "execution_count": 1,
   "metadata": {},
   "outputs": [],
   "source": [
    "import pandas as pd\n",
    "import numpy as np\n",
    "import matplotlib.pyplot as plt\n",
    "import os\n",
    "import copy as cp"
   ]
  },
  {
   "cell_type": "markdown",
   "metadata": {},
   "source": [
    "## Setup functions"
   ]
  },
  {
   "cell_type": "code",
   "execution_count": 2,
   "metadata": {},
   "outputs": [],
   "source": [
    "#where to save images\n",
    "PROJECT_ROOT_DIR = \".\"\n",
    "CHAPTER_ID = \"COVID_project\"\n",
    "IMAGES_PATH = os.path.join(PROJECT_ROOT_DIR, \"images\", CHAPTER_ID)\n",
    "\n",
    "def clear_plt_cache():\n",
    "    plt.clf()\n",
    "\n",
    "\n",
    "def save_fig(fig_id, tight_layout=True, fig_extension=\"png\", resolution=300):\n",
    "    path = os.path.join(IMAGES_PATH, fig_id + \".\" + fig_extension)\n",
    "    print(\"Saving figure\", fig_id)\n",
    "    if tight_layout:\n",
    "        plt.tight_layout()\n",
    "    plt.savefig(path, format=fig_extension, dpi=resolution)"
   ]
  },
  {
   "cell_type": "markdown",
   "metadata": {},
   "source": [
    "## Get the data"
   ]
  },
  {
   "cell_type": "code",
   "execution_count": 3,
   "metadata": {},
   "outputs": [
    {
     "data": {
      "text/html": [
       "<div>\n",
       "<style scoped>\n",
       "    .dataframe tbody tr th:only-of-type {\n",
       "        vertical-align: middle;\n",
       "    }\n",
       "\n",
       "    .dataframe tbody tr th {\n",
       "        vertical-align: top;\n",
       "    }\n",
       "\n",
       "    .dataframe thead th {\n",
       "        text-align: right;\n",
       "    }\n",
       "</style>\n",
       "<table border=\"1\" class=\"dataframe\">\n",
       "  <thead>\n",
       "    <tr style=\"text-align: right;\">\n",
       "      <th></th>\n",
       "      <th>country</th>\n",
       "      <th>iso3c</th>\n",
       "      <th>region</th>\n",
       "      <th>date</th>\n",
       "      <th>confirmed</th>\n",
       "      <th>deaths</th>\n",
       "      <th>recovered</th>\n",
       "      <th>negative_cases</th>\n",
       "      <th>pcr_positivo</th>\n",
       "      <th>prueba_rapida_positivo</th>\n",
       "      <th>pcr_prapida_positivo</th>\n",
       "    </tr>\n",
       "  </thead>\n",
       "  <tbody>\n",
       "    <tr>\n",
       "      <th>0</th>\n",
       "      <td>Peru</td>\n",
       "      <td>PER</td>\n",
       "      <td>NaN</td>\n",
       "      <td>2020-03-06</td>\n",
       "      <td>1</td>\n",
       "      <td>NaN</td>\n",
       "      <td>NaN</td>\n",
       "      <td>154.0</td>\n",
       "      <td>NaN</td>\n",
       "      <td>NaN</td>\n",
       "      <td>NaN</td>\n",
       "    </tr>\n",
       "    <tr>\n",
       "      <th>1</th>\n",
       "      <td>Peru</td>\n",
       "      <td>PER</td>\n",
       "      <td>NaN</td>\n",
       "      <td>2020-03-07</td>\n",
       "      <td>6</td>\n",
       "      <td>NaN</td>\n",
       "      <td>NaN</td>\n",
       "      <td>213.0</td>\n",
       "      <td>NaN</td>\n",
       "      <td>NaN</td>\n",
       "      <td>NaN</td>\n",
       "    </tr>\n",
       "    <tr>\n",
       "      <th>2</th>\n",
       "      <td>Peru</td>\n",
       "      <td>PER</td>\n",
       "      <td>NaN</td>\n",
       "      <td>2020-03-09</td>\n",
       "      <td>9</td>\n",
       "      <td>NaN</td>\n",
       "      <td>NaN</td>\n",
       "      <td>309.0</td>\n",
       "      <td>NaN</td>\n",
       "      <td>NaN</td>\n",
       "      <td>NaN</td>\n",
       "    </tr>\n",
       "    <tr>\n",
       "      <th>3</th>\n",
       "      <td>Peru</td>\n",
       "      <td>PER</td>\n",
       "      <td>NaN</td>\n",
       "      <td>2020-03-10</td>\n",
       "      <td>11</td>\n",
       "      <td>NaN</td>\n",
       "      <td>NaN</td>\n",
       "      <td>335.0</td>\n",
       "      <td>NaN</td>\n",
       "      <td>NaN</td>\n",
       "      <td>NaN</td>\n",
       "    </tr>\n",
       "    <tr>\n",
       "      <th>4</th>\n",
       "      <td>Peru</td>\n",
       "      <td>PER</td>\n",
       "      <td>NaN</td>\n",
       "      <td>2020-03-11</td>\n",
       "      <td>17</td>\n",
       "      <td>NaN</td>\n",
       "      <td>NaN</td>\n",
       "      <td>697.0</td>\n",
       "      <td>NaN</td>\n",
       "      <td>NaN</td>\n",
       "      <td>NaN</td>\n",
       "    </tr>\n",
       "  </tbody>\n",
       "</table>\n",
       "</div>"
      ],
      "text/plain": [
       "  country iso3c region        date  confirmed  deaths  recovered  \\\n",
       "0    Peru   PER    NaN  2020-03-06          1     NaN        NaN   \n",
       "1    Peru   PER    NaN  2020-03-07          6     NaN        NaN   \n",
       "2    Peru   PER    NaN  2020-03-09          9     NaN        NaN   \n",
       "3    Peru   PER    NaN  2020-03-10         11     NaN        NaN   \n",
       "4    Peru   PER    NaN  2020-03-11         17     NaN        NaN   \n",
       "\n",
       "   negative_cases  pcr_positivo  prueba_rapida_positivo  pcr_prapida_positivo  \n",
       "0           154.0           NaN                     NaN                   NaN  \n",
       "1           213.0           NaN                     NaN                   NaN  \n",
       "2           309.0           NaN                     NaN                   NaN  \n",
       "3           335.0           NaN                     NaN                   NaN  \n",
       "4           697.0           NaN                     NaN                   NaN  "
      ]
     },
     "execution_count": 3,
     "metadata": {},
     "output_type": "execute_result"
    }
   ],
   "source": [
    "url = \"https://raw.githubusercontent.com/jmcastagnetto/covid-19-peru-data/master/datos/covid-19-peru-data.csv\"\n",
    "df = pd.read_csv(url)\n",
    "\n",
    "df.head()"
   ]
  },
  {
   "cell_type": "code",
   "execution_count": 4,
   "metadata": {},
   "outputs": [
    {
     "name": "stdout",
     "output_type": "stream",
     "text": [
      "<class 'pandas.core.frame.DataFrame'>\n",
      "RangeIndex: 1527 entries, 0 to 1526\n",
      "Data columns (total 11 columns):\n",
      " #   Column                  Non-Null Count  Dtype  \n",
      "---  ------                  --------------  -----  \n",
      " 0   country                 1527 non-null   object \n",
      " 1   iso3c                   1527 non-null   object \n",
      " 2   region                  1453 non-null   object \n",
      " 3   date                    1527 non-null   object \n",
      " 4   confirmed               1527 non-null   int64  \n",
      " 5   deaths                  942 non-null    float64\n",
      " 6   recovered               92 non-null     float64\n",
      " 7   negative_cases          74 non-null     float64\n",
      " 8   pcr_positivo            1037 non-null   float64\n",
      " 9   prueba_rapida_positivo  974 non-null    float64\n",
      " 10  pcr_prapida_positivo    24 non-null     float64\n",
      "dtypes: float64(6), int64(1), object(4)\n",
      "memory usage: 131.4+ KB\n"
     ]
    }
   ],
   "source": [
    "df.info()"
   ]
  },
  {
   "cell_type": "code",
   "execution_count": 5,
   "metadata": {},
   "outputs": [
    {
     "data": {
      "text/html": [
       "<div>\n",
       "<style scoped>\n",
       "    .dataframe tbody tr th:only-of-type {\n",
       "        vertical-align: middle;\n",
       "    }\n",
       "\n",
       "    .dataframe tbody tr th {\n",
       "        vertical-align: top;\n",
       "    }\n",
       "\n",
       "    .dataframe thead th {\n",
       "        text-align: right;\n",
       "    }\n",
       "</style>\n",
       "<table border=\"1\" class=\"dataframe\">\n",
       "  <thead>\n",
       "    <tr style=\"text-align: right;\">\n",
       "      <th></th>\n",
       "      <th>confirmed</th>\n",
       "      <th>deaths</th>\n",
       "      <th>recovered</th>\n",
       "      <th>negative_cases</th>\n",
       "      <th>pcr_positivo</th>\n",
       "      <th>prueba_rapida_positivo</th>\n",
       "      <th>pcr_prapida_positivo</th>\n",
       "    </tr>\n",
       "  </thead>\n",
       "  <tbody>\n",
       "    <tr>\n",
       "      <th>count</th>\n",
       "      <td>1527.000000</td>\n",
       "      <td>942.000000</td>\n",
       "      <td>92.000000</td>\n",
       "      <td>74.000000</td>\n",
       "      <td>1037.000000</td>\n",
       "      <td>974.000000</td>\n",
       "      <td>24.000000</td>\n",
       "    </tr>\n",
       "    <tr>\n",
       "      <th>mean</th>\n",
       "      <td>2241.266536</td>\n",
       "      <td>99.850318</td>\n",
       "      <td>5963.804348</td>\n",
       "      <td>158361.054054</td>\n",
       "      <td>1162.055931</td>\n",
       "      <td>2114.921971</td>\n",
       "      <td>34.583333</td>\n",
       "    </tr>\n",
       "    <tr>\n",
       "      <th>std</th>\n",
       "      <td>9570.533085</td>\n",
       "      <td>308.821124</td>\n",
       "      <td>8986.424614</td>\n",
       "      <td>184634.706997</td>\n",
       "      <td>3869.628137</td>\n",
       "      <td>7849.395765</td>\n",
       "      <td>72.926358</td>\n",
       "    </tr>\n",
       "    <tr>\n",
       "      <th>min</th>\n",
       "      <td>1.000000</td>\n",
       "      <td>1.000000</td>\n",
       "      <td>1.000000</td>\n",
       "      <td>154.000000</td>\n",
       "      <td>1.000000</td>\n",
       "      <td>1.000000</td>\n",
       "      <td>1.000000</td>\n",
       "    </tr>\n",
       "    <tr>\n",
       "      <th>25%</th>\n",
       "      <td>17.000000</td>\n",
       "      <td>2.000000</td>\n",
       "      <td>5.000000</td>\n",
       "      <td>7829.750000</td>\n",
       "      <td>16.000000</td>\n",
       "      <td>57.000000</td>\n",
       "      <td>1.750000</td>\n",
       "    </tr>\n",
       "    <tr>\n",
       "      <th>50%</th>\n",
       "      <td>124.000000</td>\n",
       "      <td>7.000000</td>\n",
       "      <td>770.500000</td>\n",
       "      <td>73184.500000</td>\n",
       "      <td>75.000000</td>\n",
       "      <td>163.500000</td>\n",
       "      <td>3.000000</td>\n",
       "    </tr>\n",
       "    <tr>\n",
       "      <th>75%</th>\n",
       "      <td>519.000000</td>\n",
       "      <td>57.000000</td>\n",
       "      <td>8172.250000</td>\n",
       "      <td>296848.250000</td>\n",
       "      <td>281.000000</td>\n",
       "      <td>596.500000</td>\n",
       "      <td>6.250000</td>\n",
       "    </tr>\n",
       "    <tr>\n",
       "      <th>max</th>\n",
       "      <td>99483.000000</td>\n",
       "      <td>2914.000000</td>\n",
       "      <td>36524.000000</td>\n",
       "      <td>580099.000000</td>\n",
       "      <td>28768.000000</td>\n",
       "      <td>70715.000000</td>\n",
       "      <td>231.000000</td>\n",
       "    </tr>\n",
       "  </tbody>\n",
       "</table>\n",
       "</div>"
      ],
      "text/plain": [
       "          confirmed       deaths     recovered  negative_cases  pcr_positivo  \\\n",
       "count   1527.000000   942.000000     92.000000       74.000000   1037.000000   \n",
       "mean    2241.266536    99.850318   5963.804348   158361.054054   1162.055931   \n",
       "std     9570.533085   308.821124   8986.424614   184634.706997   3869.628137   \n",
       "min        1.000000     1.000000      1.000000      154.000000      1.000000   \n",
       "25%       17.000000     2.000000      5.000000     7829.750000     16.000000   \n",
       "50%      124.000000     7.000000    770.500000    73184.500000     75.000000   \n",
       "75%      519.000000    57.000000   8172.250000   296848.250000    281.000000   \n",
       "max    99483.000000  2914.000000  36524.000000   580099.000000  28768.000000   \n",
       "\n",
       "       prueba_rapida_positivo  pcr_prapida_positivo  \n",
       "count              974.000000             24.000000  \n",
       "mean              2114.921971             34.583333  \n",
       "std               7849.395765             72.926358  \n",
       "min                  1.000000              1.000000  \n",
       "25%                 57.000000              1.750000  \n",
       "50%                163.500000              3.000000  \n",
       "75%                596.500000              6.250000  \n",
       "max              70715.000000            231.000000  "
      ]
     },
     "execution_count": 5,
     "metadata": {},
     "output_type": "execute_result"
    }
   ],
   "source": [
    "df.describe()"
   ]
  },
  {
   "cell_type": "markdown",
   "metadata": {},
   "source": [
    "### Histogram Problem\n",
    "* Not so necessary because we have different values everyday."
   ]
  },
  {
   "cell_type": "code",
   "execution_count": 6,
   "metadata": {},
   "outputs": [
    {
     "name": "stdout",
     "output_type": "stream",
     "text": [
      "Saving figure attribute_histogram_plots\n"
     ]
    },
    {
     "data": {
      "image/png": "[encoded data removed]",
      "text/plain": [
       "<Figure size 1440x1080 with 9 Axes>"
      ]
     },
     "metadata": {
      "needs_background": "light"
     },
     "output_type": "display_data"
    }
   ],
   "source": [
    "df.hist(bins=50, figsize=(20,15))\n",
    "save_fig(\"attribute_histogram_plots\")\n",
    "plt.show()"
   ]
  },
  {
   "cell_type": "markdown",
   "metadata": {},
   "source": [
    "# Discover and visualize the data to gain insights\n",
    "* It's necessary to work on data elements that is not usefull for us (The NaN values).\n",
    "* But first we need to separate the data in regions of interest.\n",
    "\n",
    "Because we need to visualize data but in a linear way!"
   ]
  },
  {
   "cell_type": "markdown",
   "metadata": {},
   "source": [
    "### Solution\n",
    "Using dictionaries!"
   ]
  },
  {
   "cell_type": "code",
   "execution_count": 7,
   "metadata": {},
   "outputs": [
    {
     "name": "stdout",
     "output_type": "stream",
     "text": [
      "{nan: True, 'Arequipa': True, 'Cusco': True, 'Huánuco': True, 'Ica': True, 'Lima': True, 'Ancash': True, 'Callao': True, 'La Libertad': True, 'Lambayeque': True, 'Piura': True, 'Loreto': True, 'Madre de Dios': True, 'Junín': True, 'San Martín': True, 'Tumbes': True, 'Cajamarca': True, 'Pasco': True, 'Ayacucho': True, 'Tacna': True, 'Huancavelica': True, 'Apurimac': True, 'Moquegua': True, 'Puno': True, 'Amazonas': True, 'Ucayali': True}\n"
     ]
    }
   ],
   "source": [
    "regions = {df[\"region\"][ind]: True for ind in df.index}\n",
    "print(str(regions))"
   ]
  },
  {
   "cell_type": "code",
   "execution_count": 8,
   "metadata": {},
   "outputs": [
    {
     "name": "stdout",
     "output_type": "stream",
     "text": [
      "  country iso3c    region        date confirmed  deaths  recovered  \\\n",
      "0    Peru   PER  Arequipa  2020-03-13         2     NaN        NaN   \n",
      "1    Peru   PER  Arequipa  2020-03-14         2     NaN        NaN   \n",
      "2    Peru   PER  Arequipa  2020-03-15         2     NaN        NaN   \n",
      "3    Peru   PER  Arequipa  2020-03-16         2     NaN        NaN   \n",
      "4    Peru   PER  Arequipa  2020-03-17         2     NaN        NaN   \n",
      "\n",
      "   negative_cases  pcr_positivo  prueba_rapida_positivo  pcr_prapida_positivo  \n",
      "0             NaN           NaN                     NaN                   NaN  \n",
      "1             NaN           NaN                     NaN                   NaN  \n",
      "2             NaN           NaN                     NaN                   NaN  \n",
      "3             NaN           NaN                     NaN                   NaN  \n",
      "4             NaN           NaN                     NaN                   NaN  \n"
     ]
    }
   ],
   "source": [
    "regions_COVID = {key:pd.DataFrame(columns = df.columns) for key, val in regions.items()}\n",
    "for ind in df.index:\n",
    "    regions_COVID[df[\"region\"][ind]] = regions_COVID[df[\"region\"][ind]].append(df.iloc[ind], ignore_index = True)\n",
    "print(regions_COVID[\"Arequipa\"].head())"
   ]
  },
  {
   "cell_type": "markdown",
   "metadata": {},
   "source": [
    "Now fix NaN to Peru"
   ]
  },
  {
   "cell_type": "code",
   "execution_count": 9,
   "metadata": {},
   "outputs": [
    {
     "name": "stdout",
     "output_type": "stream",
     "text": [
      "nan, Arequipa, Cusco, Huánuco, Ica, Lima, Ancash, Callao, La Libertad, Lambayeque, Piura, Loreto, Madre de Dios, Junín, San Martín, Tumbes, Cajamarca, Pasco, Ayacucho, Tacna, Huancavelica, Apurimac, Moquegua, Puno, Amazonas, Ucayali, "
     ]
    }
   ],
   "source": [
    "for key,val in regions_COVID.items():\n",
    "    print(key, end = \", \")"
   ]
  },
  {
   "cell_type": "code",
   "execution_count": 10,
   "metadata": {},
   "outputs": [
    {
     "name": "stdout",
     "output_type": "stream",
     "text": [
      "Peru, Arequipa, Cusco, Huánuco, Ica, Lima, Ancash, Callao, La Libertad, Lambayeque, Piura, Loreto, Madre de Dios, Junín, San Martín, Tumbes, Cajamarca, Pasco, Ayacucho, Tacna, Huancavelica, Apurimac, Moquegua, Puno, Amazonas, Ucayali, "
     ]
    }
   ],
   "source": [
    "regions_COVID_fix1 = {}\n",
    "it = 0\n",
    "for key, val in regions_COVID.items():\n",
    "    if it == 0:\n",
    "        regions_COVID_fix1[\"Peru\"] = val\n",
    "    else:\n",
    "        regions_COVID_fix1[key] = val\n",
    "    it += 1\n",
    "for key, val in regions_COVID_fix1.items():\n",
    "    print(key, end = \", \")"
   ]
  },
  {
   "cell_type": "markdown",
   "metadata": {},
   "source": [
    "Now fix the other NaN Values"
   ]
  },
  {
   "cell_type": "code",
   "execution_count": 11,
   "metadata": {},
   "outputs": [],
   "source": [
    "NaNvalue = regions_COVID_fix1[\"Peru\"][\"region\"][0]"
   ]
  },
  {
   "cell_type": "code",
   "execution_count": 12,
   "metadata": {},
   "outputs": [
    {
     "name": "stdout",
     "output_type": "stream",
     "text": [
      "  country iso3c    region        date confirmed  deaths  recovered  \\\n",
      "0    Peru   PER  Arequipa  2020-03-13         2     0.0        0.0   \n",
      "1    Peru   PER  Arequipa  2020-03-14         2     0.0        0.0   \n",
      "2    Peru   PER  Arequipa  2020-03-15         2     0.0        0.0   \n",
      "3    Peru   PER  Arequipa  2020-03-16         2     0.0        0.0   \n",
      "4    Peru   PER  Arequipa  2020-03-17         2     0.0        0.0   \n",
      "\n",
      "   negative_cases  pcr_positivo  prueba_rapida_positivo  pcr_prapida_positivo  \n",
      "0             0.0           0.0                     0.0                   0.0  \n",
      "1             0.0           0.0                     0.0                   0.0  \n",
      "2             0.0           0.0                     0.0                   0.0  \n",
      "3             0.0           0.0                     0.0                   0.0  \n",
      "4             0.0           0.0                     0.0                   0.0  \n"
     ]
    }
   ],
   "source": [
    "regions_COVID_fix2 = {}\n",
    "for key, val in regions_COVID_fix1.items():\n",
    "    regions_COVID_fix2[key] = regions_COVID_fix1[key].replace(to_replace = NaNvalue, value = 0)\n",
    "print(regions_COVID_fix2[\"Arequipa\"].head()) "
   ]
  },
  {
   "cell_type": "markdown",
   "metadata": {},
   "source": [
    "\n",
    "Now replace the dates by numbers."
   ]
  },
  {
   "cell_type": "code",
   "execution_count": 13,
   "metadata": {},
   "outputs": [
    {
     "name": "stdout",
     "output_type": "stream",
     "text": [
      "  country iso3c    region date confirmed  deaths  recovered  negative_cases  \\\n",
      "0    Peru   PER  Arequipa    1         2     0.0        0.0             0.0   \n",
      "1    Peru   PER  Arequipa    2         2     0.0        0.0             0.0   \n",
      "2    Peru   PER  Arequipa    3         2     0.0        0.0             0.0   \n",
      "3    Peru   PER  Arequipa    4         2     0.0        0.0             0.0   \n",
      "4    Peru   PER  Arequipa    5         2     0.0        0.0             0.0   \n",
      "\n",
      "   pcr_positivo  prueba_rapida_positivo  pcr_prapida_positivo  \n",
      "0           0.0                     0.0                   0.0  \n",
      "1           0.0                     0.0                   0.0  \n",
      "2           0.0                     0.0                   0.0  \n",
      "3           0.0                     0.0                   0.0  \n",
      "4           0.0                     0.0                   0.0  \n"
     ]
    }
   ],
   "source": [
    "#save the start date of infection in each region\n",
    "regions_COVID_StrDate = {key: regions_COVID_fix2[key][\"date\"][0] for key, val in regions_COVID_fix2.items()}\n",
    "\n",
    "#replacing the date values\n",
    "regions_COVID_fixed = {}\n",
    "for key, val in regions_COVID_fix2.items():\n",
    "    regions_COVID_fixed[key] = pd.DataFrame(columns = regions_COVID_fix2[\"Peru\"].columns)\n",
    "    for ind in val.index:\n",
    "        row = val.iloc[ind]\n",
    "        date = row[\"date\"]\n",
    "        regions_COVID_fixed[key] = regions_COVID_fixed[key].append(row.replace(to_replace = date, value = ind + 1))\n",
    "print(regions_COVID_fixed[\"Arequipa\"].head())"
   ]
  },
  {
   "cell_type": "markdown",
   "metadata": {},
   "source": [
    "Now data is ready to be plot!"
   ]
  },
  {
   "cell_type": "code",
   "execution_count": 14,
   "metadata": {},
   "outputs": [],
   "source": [
    "def plot_region_confirmed(region_df, region_name):\n",
    "    inds = [ind + 1 for ind in region_df.index]\n",
    "    confirmed = region_df[\"confirmed\"]\n",
    "    clear_plt_cache()\n",
    "    plt.plot(inds, confirmed)\n",
    "    save_fig(region_name)\n",
    "    plt.show()\n",
    "    \n",
    "def plot_region_death(region_df, region_name):\n",
    "    inds = [ind + 1 for ind in region_df.index]\n",
    "    death = region_df[\"deaths\"]\n",
    "    clear_plt_cache()\n",
    "    plt.plot(inds, death)\n",
    "    save_fig(region_name)\n",
    "    plt.show()\n",
    "    \n",
    "def plot_region_stats(region_df, region_name):\n",
    "    inds = [ind + 1 for ind in region_df.index]\n",
    "    confirmed = region_df[\"confirmed\"]\n",
    "    death = region_df[\"deaths\"]\n",
    "    clear_plt_cache()\n",
    "    plt.plot(inds, confirmed, color = \"blue\", label = \"Casos Confirmados\")\n",
    "    plt.plot(inds, death, color = \"red\", label = \"Fallecidos\")\n",
    "    plt.legend(loc = \"upper left\")\n",
    "    save_fig(region_name)\n",
    "    plt.show()"
   ]
  },
  {
   "cell_type": "code",
   "execution_count": 15,
   "metadata": {},
   "outputs": [
    {
     "name": "stdout",
     "output_type": "stream",
     "text": [
      "Saving figure Arequipa_Stats\n"
     ]
    },
    {
     "data": {
      "image/png": "[encoded data removed]",
      "text/plain": [
       "<Figure size 432x288 with 1 Axes>"
      ]
     },
     "metadata": {
      "needs_background": "light"
     },
     "output_type": "display_data"
    },
    {
     "name": "stdout",
     "output_type": "stream",
     "text": [
      "Saving figure Arequipa_deaths\n"
     ]
    },
    {
     "data": {
      "image/png": "[encoded data removed]",
      "text/plain": [
       "<Figure size 432x288 with 1 Axes>"
      ]
     },
     "metadata": {
      "needs_background": "light"
     },
     "output_type": "display_data"
    }
   ],
   "source": [
    "plot_region_stats(regions_COVID_fixed[\"Arequipa\"], \"Arequipa_Stats\")\n",
    "plot_region_death(regions_COVID_fixed[\"Arequipa\"], \"Arequipa_deaths\")"
   ]
  },
  {
   "cell_type": "markdown",
   "metadata": {},
   "source": [
    "plot_region_stats(regions_COVID_fixed[\"Peru\"], \"Peru_Stats\")\n",
    "plot_region_death(regions_COVID_fixed[\"Peru\"], \"Peru_deaths\")"
   ]
  },
  {
   "cell_type": "markdown",
   "metadata": {},
   "source": [
    "# Prepare the data for Machine Learning algorithms"
   ]
  },
  {
   "cell_type": "markdown",
   "metadata": {},
   "source": [
    "* Analizing dataframes we have note that important fields are \"date\", \"pcr_positivo\", \"prueba_rapida_positivo\" and \"pcr_prapida_positivo\".\n",
    "* Note that the date is an independant field (it can be alone to predict the data) so we analize in both ways.\n",
    "* The $Y$ values are \"confirmed\" and \"deaths\" both with different functions to represent each. So we are going to predict individually."
   ]
  },
  {
   "cell_type": "markdown",
   "metadata": {},
   "source": [
    "## Preparing both datasets (date, other)"
   ]
  },
  {
   "cell_type": "code",
   "execution_count": 16,
   "metadata": {},
   "outputs": [],
   "source": [
    "def separate_region(region_dictionary, region_name):\n",
    "    try:\n",
    "        return region_dictionary[region_name]\n",
    "    except:\n",
    "        print(\"Error: Wrong name in region_name\")\n",
    "        return False\n",
    "\n",
    "def fields_by_thetas(date = False):\n",
    "    if date:\n",
    "        return [\"date\", \"confirmed\", \"deaths\"]\n",
    "    else:\n",
    "        return [\"pcr_positivo\", \"prueba_rapida_positivo\", \"pcr_prapida_positivo\", \"pcr_prapida_positivo\", \"confirmed\", \"deaths\"]\n",
    "    \n",
    "def separate_fields(dataframe, fields):\n",
    "    important_df = dataframe[fields]\n",
    "    return important_df\n",
    "\n",
    "def auto_separator(region_dictionary, region_name, date = False):\n",
    "    region_dataset = separate_region(region_dictionary, region_name)\n",
    "    fields = fields_by_thetas(date)\n",
    "    important_info = separate_fields(region_dataset, fields)\n",
    "    return important_info"
   ]
  },
  {
   "cell_type": "code",
   "execution_count": 23,
   "metadata": {},
   "outputs": [],
   "source": [
    "aqp_dataset = auto_separator(regions_COVID_fixed, \"Arequipa\")\n",
    "aqp_dataset_date = auto_separator(regions_COVID_fixed, \"Arequipa\", date = True)\n",
    "peru_dataset = auto_separator(regions_COVID_fixed, \"Peru\")\n",
    "peru_dataset_date = auto_separator(regions_COVID_fixed, \"Peru\", date = True)"
   ]
  },
  {
   "cell_type": "markdown",
   "metadata": {},
   "source": [
    "__Note:__ Exist Noise between data rows, to fixed we use *fix_np_array* function"
   ]
  },
  {
   "cell_type": "code",
   "execution_count": 18,
   "metadata": {},
   "outputs": [],
   "source": [
    "def fix_np_array(np_array):\n",
    "    row, col = np_array.shape\n",
    "    for i in range(1, row):\n",
    "        for j in range(0, col):\n",
    "            if np_array[i][j] == 0:\n",
    "                np_array[i][j] = np_array[i - 1][j]\n",
    "    return np_array"
   ]
  },
  {
   "cell_type": "code",
   "execution_count": 21,
   "metadata": {},
   "outputs": [],
   "source": [
    "def dataframe_to_fixed_np(df):\n",
    "    data = df.to_numpy()\n",
    "    data = fix_np_array(data)\n",
    "    data = data.T\n",
    "    temp = np.ones(data.shape[1])\n",
    "    temp2 = [temp]\n",
    "    for i in data:\n",
    "        temp2.append(i)\n",
    "    temp3 = np.array(temp2)\n",
    "    X_data = temp3[0:-2]\n",
    "    Y_data = temp3[-2:]\n",
    "    temp4 = []\n",
    "    for i in X_data:\n",
    "        temp4.append(i)\n",
    "    temp5 = cp.copy(temp4)\n",
    "    temp4.append(Y_data[0])\n",
    "    temp5.append(Y_data[1])\n",
    "    confirmed, deaths = np.array(temp4), np.array(temp5)\n",
    "    return confirmed, deaths"
   ]
  },
  {
   "cell_type": "code",
   "execution_count": 36,
   "metadata": {},
   "outputs": [],
   "source": [
    "aqp_confirmed, aqp_deaths = dataframe_to_fixed_np(aqp_dataset)\n",
    "aqp_conf_date, aqp_deaths_date = dataframe_to_fixed_np(aqp_dataset_date)\n",
    "peru_confirmed, peru_deaths = dataframe_to_fixed_np(peru_dataset)\n",
    "peru_conf_date, peru_deaths_date = dataframe_to_fixed_np(peru_dataset_date)"
   ]
  },
  {
   "cell_type": "markdown",
   "metadata": {},
   "source": [
    "Now separate to train and test..."
   ]
  },
  {
   "cell_type": "code",
   "execution_count": 34,
   "metadata": {},
   "outputs": [],
   "source": [
    "def train_test_separator(np_array):\n",
    "    max_len = np_array.shape[1]\n",
    "    train_end, test_start = int(max_len*0.7), int(max_len*0.7)\n",
    "    return np_array[:,:train_end], np_array[:,test_start:]"
   ]
  },
  {
   "cell_type": "code",
   "execution_count": 42,
   "metadata": {},
   "outputs": [],
   "source": [
    "aqp_c_train, aqp_c_test = train_test_separator(aqp_confirmed)\n",
    "aqp_d_train, aqp_d_test = train_test_separator(aqp_deaths)\n",
    "aqp_cd_train, aqp_cd_test = train_test_separator(aqp_conf_date)\n",
    "aqp_dd_train, aqp_dd_test = train_test_separator(aqp_deaths_date)\n",
    "peru_c_train, peru_c_test = train_test_separator(peru_confirmed)\n",
    "peru_d_train, peru_d_test = train_test_separator(peru_deaths)\n",
    "peru_cd_train, peru_cd_test = train_test_separator(peru_conf_date)\n",
    "peru_dd_train, peru_dd_test = train_test_separator(peru_deaths_date)"
   ]
  },
  {
   "cell_type": "markdown",
   "metadata": {},
   "source": [
    "## Other functions that could help"
   ]
  },
  {
   "cell_type": "code",
   "execution_count": 55,
   "metadata": {},
   "outputs": [],
   "source": [
    "def data_to_XY(np_array):\n",
    "    return np_array[:-1], np.array([np_array[-1]])\n",
    "\n",
    "def init_thetas(X):\n",
    "    theta = np.zeros((X.shape[0], 1))\n",
    "    return theta"
   ]
  },
  {
   "cell_type": "markdown",
   "metadata": {},
   "source": [
    "Now the data is ready for the ML algorithms!"
   ]
  },
  {
   "cell_type": "markdown",
   "metadata": {},
   "source": [
    "# Select and train a model"
   ]
  },
  {
   "cell_type": "markdown",
   "metadata": {},
   "source": [
    "We can train in two ways: with date an with the other data so the applied gradient would be:"
   ]
  },
  {
   "cell_type": "code",
   "execution_count": 207,
   "metadata": {},
   "outputs": [],
   "source": [
    "def Gradient_no_date(X, theta, Y):\n",
    "    return np.sum((np.dot(theta.T, X) - Y)*X, keepdims = True, axis = 1) / Y.shape[1]\n",
    "\n",
    "def Gradient_with_date(X, theta, Y):\n",
    "    #we know X has dimensions of [2,m] then it only have 2 gradients\n",
    "    m = Y.shape[1]\n",
    "    G1 = np.sum((theta[0] * X[0] + theta[1] * np.power(X[1], 2) - Y) * X) / m\n",
    "    G2 = np.sum((theta[0] * X[0] + theta[1] * np.power(X[1], 2) - Y) * np.power(X, 2)) / m\n",
    "    return np.array([[G1], [G2]])"
   ]
  },
  {
   "cell_type": "code",
   "execution_count": 183,
   "metadata": {},
   "outputs": [],
   "source": [
    "def Gradient_descent(X, theta, Y, learning_rate = 0.00012, iterations = 1000, date = False):\n",
    "    for i in range(iterations):\n",
    "        if date:\n",
    "            theta = theta - learning_rate * Gradient_with_date(X, theta, Y)\n",
    "        else:\n",
    "            theta = theta - learning_rate * Gradient_no_date(X, theta, Y)\n",
    "    return theta"
   ]
  },
  {
   "cell_type": "markdown",
   "metadata": {},
   "source": [
    "## Initializing values"
   ]
  },
  {
   "cell_type": "code",
   "execution_count": 212,
   "metadata": {},
   "outputs": [],
   "source": [
    "X_train, Y_train = data_to_XY(aqp_c_train)\n",
    "X_test, Y_test = data_to_XY(aqp_c_test)\n",
    "theta_nd = init_thetas(X_train)\n",
    "X_train_d, Y_train_d = data_to_XY(aqp_cd_train)\n",
    "X_test_d, Y_test_d = data_to_XY(aqp_cd_test)\n",
    "theta_wd = init_thetas(X_train_d)"
   ]
  },
  {
   "cell_type": "markdown",
   "metadata": {},
   "source": [
    "## Applying Gradient Descent"
   ]
  },
  {
   "cell_type": "code",
   "execution_count": 213,
   "metadata": {},
   "outputs": [],
   "source": [
    "theta_nd = Gradient_descent(X_train, theta_nd, Y_train)\n",
    "# Start with little learning rate because the exponential\n",
    "theta_wd = Gradient_descent(X_train_d, theta_wd, Y_train_d, learning_rate = 0.00000001, date = True)"
   ]
  },
  {
   "cell_type": "markdown",
   "metadata": {},
   "source": [
    "## Prediction function"
   ]
  },
  {
   "cell_type": "code",
   "execution_count": 201,
   "metadata": {},
   "outputs": [],
   "source": [
    "def predict_function(X, theta, date = False):\n",
    "    if date:\n",
    "        return theta[0] * X[0] + theta[1] * np.power(X[1], 2)\n",
    "    else:\n",
    "        return np.dot(theta.T, X)"
   ]
  },
  {
   "cell_type": "markdown",
   "metadata": {},
   "source": [
    "## Cost Function"
   ]
  },
  {
   "cell_type": "code",
   "execution_count": 197,
   "metadata": {},
   "outputs": [],
   "source": [
    "def cost_function(X, theta, Y, date = False):\n",
    "    if date:\n",
    "        return np.sum(theta[0] * X[0] + theta[1]* np.power(X[1], 2) - Y) ** 2 / (Y.shape[1] * 2)\n",
    "    else:\n",
    "        return np.sum((np.dot(theta.T, X) - Y) ** 2) / (Y.shape[1] * 2)"
   ]
  },
  {
   "cell_type": "markdown",
   "metadata": {},
   "source": [
    "## Calculating prediction and cost on test "
   ]
  },
  {
   "cell_type": "code",
   "execution_count": 216,
   "metadata": {},
   "outputs": [
    {
     "name": "stdout",
     "output_type": "stream",
     "text": [
      "Costo sin date: 6.0265453323259806\n",
      "Costo con date: 3223277.3853579485\n"
     ]
    }
   ],
   "source": [
    "Y_predict_nd = predict_function(X_test, theta_nd)\n",
    "Y_predict_wd = predict_function(X_test_d, theta_wd, date = True)\n",
    "print(\"Costo sin date: \" + str(cost_function(X_test, theta_nd, Y_test)))\n",
    "print(\"Costo con date: \" + str(cost_function(X_test_d, theta_wd, Y_test_d, date = True)))"
   ]
  },
  {
   "cell_type": "markdown",
   "metadata": {},
   "source": [
    "* Looks date prediction is not doing well, Let's try other hyperparameters"
   ]
  },
  {
   "cell_type": "code",
   "execution_count": 234,
   "metadata": {},
   "outputs": [
    {
     "name": "stdout",
     "output_type": "stream",
     "text": [
      "Costo con date: 3136885.9377996633\n"
     ]
    },
    {
     "data": {
      "text/plain": [
       "array([[-4.9241498 ],\n",
       "       [ 0.16137174]])"
      ]
     },
     "execution_count": 234,
     "metadata": {},
     "output_type": "execute_result"
    }
   ],
   "source": [
    "theta_wd = init_thetas(X_train_d)\n",
    "theta_wd = Gradient_descent(X_train_d, theta_wd, Y_train_d, learning_rate = 0.0000019, iterations = 10000, date = True)\n",
    "print(\"Costo con date: \" + str(cost_function(X_test_d, theta_wd, Y_test_d, date = True)))\n",
    "theta_wd"
   ]
  },
  {
   "cell_type": "markdown",
   "metadata": {},
   "source": [
    "No case, __Conclusion:__ Linear Regresion will be used for this prediction"
   ]
  },
  {
   "cell_type": "markdown",
   "metadata": {},
   "source": [
    "# Fine-Tune your model\n",
    "* Let's see how is predicting our model"
   ]
  },
  {
   "cell_type": "code",
   "execution_count": 237,
   "metadata": {},
   "outputs": [
    {
     "name": "stdout",
     "output_type": "stream",
     "text": [
      "Saving figure Arequipa_confirmed_case_prediction\n"
     ]
    },
    {
     "data": {
      "image/png": "[encoded data removed]",
      "text/plain": [
       "<Figure size 432x288 with 1 Axes>"
      ]
     },
     "metadata": {
      "needs_background": "light"
     },
     "output_type": "display_data"
    }
   ],
   "source": [
    "clear_plt_cache()\n",
    "plt.plot(X_train_d[1], Y_train[0], color = \"blue\", label = \"Training\")\n",
    "plt.plot(X_test_d[1], Y_predict_nd[0], color = \"red\", label = \"Prediction\")\n",
    "plt.legend(loc = \"upper left\")\n",
    "save_fig(\"Arequipa_confirmed_case_prediction\")\n",
    "plt.show()"
   ]
  },
  {
   "cell_type": "markdown",
   "metadata": {},
   "source": [
    "It can be improved even more"
   ]
  },
  {
   "cell_type": "code",
   "execution_count": 238,
   "metadata": {},
   "outputs": [],
   "source": [
    "def auto_ploter(Y_train, Y_predict_nd):\n",
    "    arange1 = np.arange(Y_train.shape[1])\n",
    "    arange2 = np.arange(Y_train.shape[1], Y_train.shape[1] + Y_predict_nd.shape[1])\n",
    "    clear_plt_cache()\n",
    "    plt.plot(arange1, Y_train[0], color = \"blue\", label = \"Training\")\n",
    "    plt.plot(arange2, Y_predict_nd[0], color = \"red\", label = \"Prediction\")\n",
    "    plt.legend(loc = \"upper left\")\n",
    "    save_fig(\"region_prediction\")\n",
    "    plt.show()"
   ]
  }
 ],
 "metadata": {
  "kernelspec": {
   "display_name": "Python 3",
   "language": "python",
   "name": "python3"
  },
  "language_info": {
   "codemirror_mode": {
    "name": "ipython",
    "version": 3
   },
   "file_extension": ".py",
   "mimetype": "text/x-python",
   "name": "python",
   "nbconvert_exporter": "python",
   "pygments_lexer": "ipython3",
   "version": "3.7.6"
  }
 },
 "nbformat": 4,
 "nbformat_minor": 4
}
